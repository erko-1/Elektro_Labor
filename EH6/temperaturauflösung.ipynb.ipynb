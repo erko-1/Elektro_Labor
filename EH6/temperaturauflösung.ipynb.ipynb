{
 "cells": [
  {
   "cell_type": "code",
   "execution_count": 1,
   "id": "4c77e4fd-0f32-4ad6-a253-48fa283f8911",
   "metadata": {},
   "outputs": [],
   "source": [
    "import numpy as np"
   ]
  },
  {
   "cell_type": "code",
   "execution_count": 6,
   "id": "d3a7dffb-70c4-4a17-bad7-8911ca167d6d",
   "metadata": {},
   "outputs": [],
   "source": [
    "def calculate_pre_R(T_min=15):\n",
    "    #calculate the value of R_NTC at a temperatur of T = 25C\n",
    "    B = 4600\n",
    "    R_0 = 1e+5 #Ohm\n",
    "    T_0 = 298 #°Kelvin (25°C)\n",
    "    R_NTC = R_0 * np.exp(-4600 * (1/298 - 1/(T_min + 273)))\n",
    "    U_NTC = 3.3\n",
    "    U_unknown = (5 - U_NTC)#V\n",
    "    R_unknown = (U_unknown * R_NTC) / U_NTC\n",
    "    return R_unknown\n"
   ]
  },
  {
   "cell_type": "code",
   "execution_count": 5,
   "id": "2b117344-2adf-47e3-a891-ab83f46d1953",
   "metadata": {},
   "outputs": [
    {
     "data": {
      "text/plain": [
       "88045.75126029097"
      ]
     },
     "execution_count": 5,
     "metadata": {},
     "output_type": "execute_result"
    }
   ],
   "source": [
    "calculate_pre_R()"
   ]
  },
  {
   "cell_type": "code",
   "execution_count": 13,
   "id": "8b32da96-4740-45dd-b985-11fb595673d1",
   "metadata": {},
   "outputs": [],
   "source": [
    "def calculate_temperature(U_NTC=3.3):\n",
    "    #calculate the temperature by measuring the voltage U_NTC\n",
    "    R_0 = 1e+5\n",
    "    B = 4600\n",
    "    T_0 = 298\n",
    "    R_1 = calculate_pre_R(15)\n",
    "    U_1 = 5 - U_NTC\n",
    "    R_T = (R_1 * U_NTC) / U_1\n",
    "    T_inv = 1 / T_0 + np.log(R_T / R_0) / B\n",
    "    T = 1 / T_inv - 273.15\n",
    "    return T\n"
   ]
  },
  {
   "cell_type": "code",
   "execution_count": 48,
   "id": "e60796a2-3773-4307-95f7-05d5bf8d8efb",
   "metadata": {},
   "outputs": [],
   "source": [
    "def ntc_resistor_voltage(deg):\n",
    "    delta = 3.3 / 4096\n",
    "    R = 1e+5\n",
    "    B = 4600\n",
    "    T = 298\n",
    "    R_v = 88000\n",
    "    R_t = R * np.exp(-B * (1/T - 1/(deg + 273.15)))\n",
    "    U_t = 5 / (1 + (R_v / R_t))\n",
    "    dT_n = np.abs(calculate_temperature(U_t - delta) - deg)\n",
    "    dT_p = np.abs(calculate_temperature(U_t + delta) - deg)\n",
    "    return (dT_n + dT_p) / 2"
   ]
  },
  {
   "cell_type": "code",
   "execution_count": 51,
   "id": "b55fe9d2-b1e6-4800-a14f-9d97b335ca38",
   "metadata": {},
   "outputs": [
    {
     "data": {
      "text/plain": [
       "0.01292810724172"
      ]
     },
     "execution_count": 51,
     "metadata": {},
     "output_type": "execute_result"
    }
   ],
   "source": [
    "ntc_resistor_voltage(15)"
   ]
  },
  {
   "cell_type": "code",
   "execution_count": 52,
   "id": "f39c9fc5-486a-481c-8e8a-0dfd3476f9d0",
   "metadata": {},
   "outputs": [
    {
     "data": {
      "text/plain": [
       "0.07439177758308801"
      ]
     },
     "execution_count": 52,
     "metadata": {},
     "output_type": "execute_result"
    }
   ],
   "source": [
    "ntc_resistor_voltage(90)"
   ]
  },
  {
   "cell_type": "code",
   "execution_count": null,
   "id": "9a5fd028-cd68-4b16-a11a-6152cd169bd5",
   "metadata": {},
   "outputs": [],
   "source": []
  },
  {
   "cell_type": "code",
   "execution_count": null,
   "id": "946cd9b8-796b-4c0d-b31d-e455019380a1",
   "metadata": {},
   "outputs": [],
   "source": []
  }
 ],
 "metadata": {
  "kernelspec": {
   "display_name": "Python 3 (ipykernel)",
   "language": "python",
   "name": "python3"
  },
  "language_info": {
   "codemirror_mode": {
    "name": "ipython",
    "version": 3
   },
   "file_extension": ".py",
   "mimetype": "text/x-python",
   "name": "python",
   "nbconvert_exporter": "python",
   "pygments_lexer": "ipython3",
   "version": "3.10.13"
  }
 },
 "nbformat": 4,
 "nbformat_minor": 5
}
